{
 "cells": [
  {
   "cell_type": "code",
   "execution_count": 1,
   "metadata": {
    "pycharm": {
     "name": "#%%\n"
    }
   },
   "outputs": [],
   "source": [
    "import numpy as np\n",
    "from costometer.envs.discrete import ModifiedCliffWalkingEnv\n",
    "from costometer.planning_algorithms.vi import value_iteration"
   ]
  },
  {
   "cell_type": "markdown",
   "metadata": {
    "pycharm": {
     "name": "#%% md\n"
    }
   },
   "source": [
    "Create a cliff walking environment, and perform value iteration to get the Q function:"
   ]
  },
  {
   "cell_type": "code",
   "execution_count": 2,
   "metadata": {
    "pycharm": {
     "name": "#%%\n"
    }
   },
   "outputs": [],
   "source": [
    "env = ModifiedCliffWalkingEnv()\n",
    "Q, V, pi, info = value_iteration(env)"
   ]
  },
  {
   "cell_type": "markdown",
   "metadata": {
    "pycharm": {
     "name": "#%% md\n"
    }
   },
   "source": [
    "The policy, in an image:"
   ]
  },
  {
   "cell_type": "code",
   "execution_count": 3,
   "metadata": {
    "pycharm": {
     "name": "#%%\n"
    }
   },
   "outputs": [
    {
     "name": "stdout",
     "output_type": "stream",
     "text": [
      ">>>>>>>>>>>∨\n",
      ">>>>>>>>>>>∨\n",
      ">>>>>>>>>>>∨\n",
      "^^^^^^^^^^>>\n",
      "\n"
     ]
    }
   ],
   "source": [
    "env.render_policy(pi)"
   ]
  },
  {
   "cell_type": "markdown",
   "metadata": {
    "pycharm": {
     "name": "#%% md\n"
    }
   },
   "source": [
    "We have a few different demonstrations:"
   ]
  },
  {
   "cell_type": "code",
   "execution_count": 4,
   "metadata": {
    "scrolled": true,
    "pycharm": {
     "name": "#%%\n"
    }
   },
   "outputs": [],
   "source": [
    "traces = [{\"states\":[36,24,12,0,1,2,3,4,5,6,7,8,9,10,11,23,35,47,'__term_state__'], \"actions\":[0,0,0,1,1,1,1,1,1,1,1,1,1,1,2,2,2,0]},\n",
    "{\"states\":[36,24,25,26,27,28,29,30,31,32,33,34,46,47,'__term_state__'], \"actions\":[0,1,1,1,1,1,1,1,1,1,1,2,1,0]},\n",
    "{\"states\":[36,24,25,26,27,28,29,30,31,32,33,34,35,47,'__term_state__'], \"actions\":[0,1,1,1,1,1,1,1,1,1,1,1,2,0]}]\n"
   ]
  },
  {
   "cell_type": "code",
   "execution_count": 5,
   "metadata": {
    "pycharm": {
     "name": "#%%\n"
    }
   },
   "outputs": [
    {
     "name": "stdout",
     "output_type": "stream",
     "text": [
      "\u001B[42m>\u001B[0m  \u001B[42m>\u001B[0m  \u001B[42m>\u001B[0m  \u001B[42m>\u001B[0m  \u001B[42m>\u001B[0m  \u001B[42m>\u001B[0m  \u001B[42m>\u001B[0m  \u001B[42m>\u001B[0m  \u001B[42m>\u001B[0m  \u001B[42m>\u001B[0m  \u001B[42m>\u001B[0m  \u001B[42m∨\u001B[0m\n",
      "\u001B[42m^\u001B[0m  o  o  o  o  o  o  o  o  o  o  \u001B[42m∨\u001B[0m\n",
      "\u001B[42m^\u001B[0m  o  o  o  o  o  o  o  o  o  o  \u001B[42m∨\u001B[0m\n",
      "\u001B[42m^\u001B[0m \u001B[31m C \u001B[0m\u001B[31m C \u001B[0m\u001B[31m C \u001B[0m\u001B[31m C \u001B[0m\u001B[31m C \u001B[0m\u001B[31m C \u001B[0m\u001B[31m C \u001B[0m\u001B[31m C \u001B[0m\u001B[31m C \u001B[0m\u001B[31m C \u001B[0m \u001B[42m^\u001B[0m\n",
      "\n",
      "o  o  o  o  o  o  o  o  o  o  o  o\n",
      "o  o  o  o  o  o  o  o  o  o  o  o\n",
      "\u001B[42m>\u001B[0m  \u001B[42m>\u001B[0m  \u001B[42m>\u001B[0m  \u001B[42m>\u001B[0m  \u001B[42m>\u001B[0m  \u001B[42m>\u001B[0m  \u001B[42m>\u001B[0m  \u001B[42m>\u001B[0m  \u001B[42m>\u001B[0m  \u001B[42m>\u001B[0m  \u001B[42m∨\u001B[0m  o\n",
      "\u001B[42m^\u001B[0m \u001B[31m C \u001B[0m\u001B[31m C \u001B[0m\u001B[31m C \u001B[0m\u001B[31m C \u001B[0m\u001B[31m C \u001B[0m\u001B[31m C \u001B[0m\u001B[31m C \u001B[0m\u001B[31m C \u001B[0m\u001B[31m C \u001B[0m \u001B[42m>\u001B[0m  \u001B[42m^\u001B[0m\n",
      "\n",
      "o  o  o  o  o  o  o  o  o  o  o  o\n",
      "o  o  o  o  o  o  o  o  o  o  o  o\n",
      "\u001B[42m>\u001B[0m  \u001B[42m>\u001B[0m  \u001B[42m>\u001B[0m  \u001B[42m>\u001B[0m  \u001B[42m>\u001B[0m  \u001B[42m>\u001B[0m  \u001B[42m>\u001B[0m  \u001B[42m>\u001B[0m  \u001B[42m>\u001B[0m  \u001B[42m>\u001B[0m  \u001B[42m>\u001B[0m  \u001B[42m∨\u001B[0m\n",
      "\u001B[42m^\u001B[0m \u001B[31m C \u001B[0m\u001B[31m C \u001B[0m\u001B[31m C \u001B[0m\u001B[31m C \u001B[0m\u001B[31m C \u001B[0m\u001B[31m C \u001B[0m\u001B[31m C \u001B[0m\u001B[31m C \u001B[0m\u001B[31m C \u001B[0m\u001B[31m C \u001B[0m \u001B[42m^\u001B[0m\n",
      "\n"
     ]
    }
   ],
   "source": [
    "for trace in traces:\n",
    "    env.render_trajectory(trace)"
   ]
  }
 ],
 "metadata": {
  "kernelspec": {
   "display_name": "Python 3",
   "language": "python",
   "name": "python3"
  },
  "language_info": {
   "codemirror_mode": {
    "name": "ipython",
    "version": 3
   },
   "file_extension": ".py",
   "mimetype": "text/x-python",
   "name": "python",
   "nbconvert_exporter": "python",
   "pygments_lexer": "ipython3",
   "version": "3.8.10"
  }
 },
 "nbformat": 4,
 "nbformat_minor": 1
}